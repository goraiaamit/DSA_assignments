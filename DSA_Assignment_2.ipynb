{
 "cells": [
  {
   "cell_type": "markdown",
   "id": "46a52e8a",
   "metadata": {},
   "source": [
    "Question 1\n",
    "Given an integer array nums of 2n integers, group these integers into n pairs (a1, b1), (a2, b2),..., (an, bn) such that the sum of min(ai, bi) for all i is maximized. Return the maximized sum.\n",
    "\n",
    "Example 1:\n",
    "Input: nums = [1,4,3,2]\n",
    "Output: 4"
   ]
  },
  {
   "cell_type": "code",
   "execution_count": 1,
   "id": "330f0c40",
   "metadata": {},
   "outputs": [
    {
     "data": {
      "text/plain": [
       "4"
      ]
     },
     "execution_count": 1,
     "metadata": {},
     "output_type": "execute_result"
    }
   ],
   "source": [
    "def max_array_sum(nums):\n",
    "    nums.sort()\n",
    "    sums=0\n",
    "    \n",
    "    for i in range (0, len(nums), 2):\n",
    "        sums=sums + min(nums[i],nums[i+1])\n",
    "    return sums\n",
    "\n",
    "nums=[1,4,3,2]\n",
    "max_array_sum(nums)"
   ]
  },
  {
   "cell_type": "markdown",
   "id": "2b44a0d4",
   "metadata": {},
   "source": [
    "Question 2\n",
    "Alice has n candies, where the ith candy is of type candyType[i]. Alice noticed that she started to gain weight, so she visited a doctor. \n",
    "\n",
    "The doctor advised Alice to only eat n / 2 of the candies she has (n is always even). Alice likes her candies very much, and she wants to eat the maximum number of different types of candies while still following the doctor's advice. \n",
    "\n",
    "Given the integer array candyType of length n, return the maximum number of different types of candies she can eat if she only eats n / 2 of them.\n",
    "\n",
    "Example 1:\n",
    "Input: candyType = [1,1,2,2,3,3]\n",
    "Output: 3"
   ]
  },
  {
   "cell_type": "code",
   "execution_count": 3,
   "id": "ff049561",
   "metadata": {},
   "outputs": [
    {
     "data": {
      "text/plain": [
       "3"
      ]
     },
     "execution_count": 3,
     "metadata": {},
     "output_type": "execute_result"
    }
   ],
   "source": [
    "def max_candy(candyType):\n",
    "    candyType.sort()\n",
    "    can_eat=set()\n",
    "    \n",
    "    for i in candyType:\n",
    "        if i not in can_eat:\n",
    "            can_eat.add(i)\n",
    "    \n",
    "        if len(can_eat)==len(candyType)//2:\n",
    "            break\n",
    "    \n",
    "    return len(can_eat)\n",
    "\n",
    "candyType=[1,1,2,2,3,3]\n",
    "max_candy(candyType)"
   ]
  },
  {
   "cell_type": "markdown",
   "id": "f276c4af",
   "metadata": {},
   "source": [
    "Question 3\n",
    "We define a harmonious array as an array where the difference between its maximum value\n",
    "and its minimum value is exactly 1.\n",
    "\n",
    "Given an integer array nums, return the length of its longest harmonious subsequence\n",
    "among all its possible subsequences.\n",
    "\n",
    "A subsequence of an array is a sequence that can be derived from the array by deleting some or no elements without changing the order of the remaining elements.\n",
    "\n",
    "Example 1:\n",
    "Input: nums = [1,3,2,2,5,2,3,7]\n",
    "Output: 5"
   ]
  },
  {
   "cell_type": "code",
   "execution_count": 4,
   "id": "5dc39569",
   "metadata": {},
   "outputs": [
    {
     "data": {
      "text/plain": [
       "5"
      ]
     },
     "execution_count": 4,
     "metadata": {},
     "output_type": "execute_result"
    }
   ],
   "source": [
    "def long_harm_seq(nums):\n",
    "    length_max=0\n",
    "    number_count={}\n",
    "    \n",
    "    for i in nums:\n",
    "        if i in number_count:\n",
    "            number_count[i]=number_count[i]+1\n",
    "        else:\n",
    "            number_count[i]=1\n",
    "            \n",
    "    for i in number_count:\n",
    "        if i+1 in number_count:\n",
    "            length=number_count[i]+number_count[i+1]\n",
    "            length_max=max(length_max,length)\n",
    "            \n",
    "    return length_max\n",
    "\n",
    "nums = [1,3,2,2,5,2,3,7]\n",
    "long_harm_seq(nums)"
   ]
  },
  {
   "cell_type": "code",
   "execution_count": 5,
   "id": "9ee8c05e",
   "metadata": {},
   "outputs": [
    {
     "data": {
      "text/plain": [
       "7"
      ]
     },
     "execution_count": 5,
     "metadata": {},
     "output_type": "execute_result"
    }
   ],
   "source": [
    "nums1=[1,1,1,2,2,2,2,3,3,4,4,4,4]\n",
    "long_harm_seq(nums1)"
   ]
  },
  {
   "cell_type": "markdown",
   "id": "ac279ae6",
   "metadata": {},
   "source": [
    "Question 4\n",
    "You have a long flowerbed in which some of the plots are planted, and some are not.\n",
    "However, flowers cannot be planted in adjacent plots.\n",
    "Given an integer array flowerbed containing 0's and 1's, where 0 means empty and 1 means not empty, and an integer n, return true if n new flowers can be planted in the flowerbed without violating the no-adjacent-flowers rule and false otherwise.\n",
    "\n",
    "Example 1:\n",
    "Input: flowerbed = [1,0,0,0,1], n = 1\n",
    "Output: true"
   ]
  },
  {
   "cell_type": "code",
   "execution_count": 6,
   "id": "20d5d9dd",
   "metadata": {},
   "outputs": [
    {
     "data": {
      "text/plain": [
       "True"
      ]
     },
     "execution_count": 6,
     "metadata": {},
     "output_type": "execute_result"
    }
   ],
   "source": [
    "def plantflower(flowerbed,n):\n",
    "    i=0\n",
    "    count=0\n",
    "    \n",
    "    while i<len(flowerbed):\n",
    "        if flowerbed[i]==0 and (i==0 or flowerbed[i-1]==0) and (i==len(flowerbed)-1 or flowerbed[i+1]==0):\n",
    "            flowerbed[i]=1\n",
    "            count=count+1\n",
    "        i=i+1\n",
    "        if count>=n:\n",
    "            return True\n",
    "    return False\n",
    "\n",
    "flowerbed = [1,0,0,0,1]\n",
    "n = 1\n",
    "plantflower(flowerbed,n)"
   ]
  },
  {
   "cell_type": "code",
   "execution_count": 9,
   "id": "b85534c4",
   "metadata": {},
   "outputs": [
    {
     "data": {
      "text/plain": [
       "False"
      ]
     },
     "execution_count": 9,
     "metadata": {},
     "output_type": "execute_result"
    }
   ],
   "source": [
    "flowerbed1 = [0, 0, 1, 0, 1, 0]\n",
    "n1 = 2\n",
    "plantflower(flowerbed1,n1)"
   ]
  },
  {
   "cell_type": "markdown",
   "id": "72de19c1",
   "metadata": {},
   "source": [
    "Question 5\n",
    "Given an integer array nums, find three numbers whose product is maximum and return the maximum product.\n",
    "\n",
    "Example 1:\n",
    "Input: nums = [1,2,3]\n",
    "Output: 6"
   ]
  },
  {
   "cell_type": "code",
   "execution_count": 15,
   "id": "87034122",
   "metadata": {},
   "outputs": [
    {
     "data": {
      "text/plain": [
       "6"
      ]
     },
     "execution_count": 15,
     "metadata": {},
     "output_type": "execute_result"
    }
   ],
   "source": [
    "def maximumproduct(nums):\n",
    "    nums.sort()\n",
    "    n=len(nums)\n",
    "    \n",
    "    return max(nums[0]*nums[1]*nums[n-1], nums[n-1]*nums[n-2]*nums[n-3])\n",
    "\n",
    "nums=[1,2,3]\n",
    "maximumproduct(nums)"
   ]
  },
  {
   "cell_type": "code",
   "execution_count": 16,
   "id": "cb484d67",
   "metadata": {},
   "outputs": [
    {
     "data": {
      "text/plain": [
       "12"
      ]
     },
     "execution_count": 16,
     "metadata": {},
     "output_type": "execute_result"
    }
   ],
   "source": [
    "nums2=[-1,2,3,-4]\n",
    "maximumproduct(nums2)"
   ]
  },
  {
   "cell_type": "markdown",
   "id": "7c411658",
   "metadata": {},
   "source": [
    "Question 6\n",
    "Given an array of integers nums which is sorted in ascending order, and an integer target,\n",
    "write a function to search target in nums. If target exists, then return its index. Otherwise,\n",
    "return -1.\n",
    "\n",
    "You must write an algorithm with O(log n) runtime complexity.\n",
    "\n",
    "Input: nums = [-1,0,3,5,9,12], target = 9\n",
    "Output: 4"
   ]
  },
  {
   "cell_type": "code",
   "execution_count": 20,
   "id": "670c6e83",
   "metadata": {},
   "outputs": [
    {
     "data": {
      "text/plain": [
       "4"
      ]
     },
     "execution_count": 20,
     "metadata": {},
     "output_type": "execute_result"
    }
   ],
   "source": [
    "def searchtarget(nums,target):\n",
    "    left=0\n",
    "    right=len(nums)-1\n",
    "    \n",
    "    while left<= right:\n",
    "        mid=(left+right)//2\n",
    "        \n",
    "        if nums[mid]==target:\n",
    "            return mid\n",
    "        elif nums[mid]<target:\n",
    "            left=mid+1\n",
    "        else:\n",
    "            right=mid-1\n",
    "    return -1\n",
    "\n",
    "nums=[-1,0,3,5,9,12]\n",
    "target =9\n",
    "searchtarget(nums,target)"
   ]
  },
  {
   "cell_type": "markdown",
   "id": "f2a209f7",
   "metadata": {},
   "source": [
    "Question 7\n",
    "An array is monotonic if it is either monotone increasing or monotone decreasing.\n",
    "\n",
    "An array nums is monotone increasing if for all i <= j, nums[i] <= nums[j]. An array nums is\n",
    "monotone decreasing if for all i <= j, nums[i] >= nums[j].\n",
    "\n",
    "Given an integer array nums, return true if the given array is monotonic, or false otherwise.\n",
    "\n",
    "Example 1:\n",
    "Input: nums = [1,2,2,3]\n",
    "Output: true"
   ]
  },
  {
   "cell_type": "code",
   "execution_count": 27,
   "id": "b1db3dd7",
   "metadata": {},
   "outputs": [
    {
     "data": {
      "text/plain": [
       "True"
      ]
     },
     "execution_count": 27,
     "metadata": {},
     "output_type": "execute_result"
    }
   ],
   "source": [
    "def ismonotonic(nums):\n",
    "    increase=decrease=True\n",
    "    \n",
    "    for i in range (1, len(nums)):\n",
    "        if nums[i] < nums[i-1]:\n",
    "            increase = False\n",
    "        if nums[i] > nums[i-1]:\n",
    "            decrease = False\n",
    "    \n",
    "    return increase or decrease\n",
    "\n",
    "nums= [1,2,2,3]\n",
    "ismonotonic(nums)"
   ]
  },
  {
   "cell_type": "markdown",
   "id": "30ec22f5",
   "metadata": {},
   "source": [
    "Question 8\n",
    "You are given an integer array nums and an integer k.\n",
    "\n",
    "In one operation, you can choose any index i where 0 <= i < nums.length and change nums[i] to nums[i] + x where x is an integer from the range [-k, k]. You can apply this operation at most once for each index i.\n",
    "\n",
    "The score of nums is the difference between the maximum and minimum elements in nums.\n",
    "\n",
    "Return the minimum score of nums after applying the mentioned operation at most once for each index in it.\n",
    "\n",
    "Example 1:\n",
    "Input: nums = [1], k = 0\n",
    "Output: 0"
   ]
  },
  {
   "cell_type": "code",
   "execution_count": 34,
   "id": "0efdeef6",
   "metadata": {},
   "outputs": [
    {
     "data": {
      "text/plain": [
       "0"
      ]
     },
     "execution_count": 34,
     "metadata": {},
     "output_type": "execute_result"
    }
   ],
   "source": [
    "def minscore(nums,k):\n",
    "    nums.sort()\n",
    "    n=len(nums)\n",
    "    min_score=nums[n-1]-nums[0]\n",
    "    \n",
    "    for i in range (1, n):\n",
    "        max_num=max(nums[i-1]+k, nums[n-1]-k)\n",
    "        min_num=min(nums[0]+k,nums[i]-k)\n",
    "        min_score=min(min_score,max_num-min_num)\n",
    "        \n",
    "    return min_score\n",
    "\n",
    "nums=[1]\n",
    "k=0\n",
    "minscore(nums,k)"
   ]
  },
  {
   "cell_type": "code",
   "execution_count": null,
   "id": "775a3da9",
   "metadata": {},
   "outputs": [],
   "source": []
  }
 ],
 "metadata": {
  "kernelspec": {
   "display_name": "Python 3 (ipykernel)",
   "language": "python",
   "name": "python3"
  },
  "language_info": {
   "codemirror_mode": {
    "name": "ipython",
    "version": 3
   },
   "file_extension": ".py",
   "mimetype": "text/x-python",
   "name": "python",
   "nbconvert_exporter": "python",
   "pygments_lexer": "ipython3",
   "version": "3.9.13"
  }
 },
 "nbformat": 4,
 "nbformat_minor": 5
}
