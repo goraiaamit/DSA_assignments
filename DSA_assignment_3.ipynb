{
 "cells": [
  {
   "cell_type": "markdown",
   "id": "dfff0c6d",
   "metadata": {},
   "source": [
    "Question 1\n",
    "Given an integer array nums of length n and an integer target, find three integers\n",
    "in nums such that the sum is closest to the target.\n",
    "Return the sum of the three integers.\n",
    "\n",
    "You may assume that each input would have exactly one solution.\n",
    "\n",
    "Example 1:\n",
    "Input: nums = [-1,2,1,-4], target = 1\n",
    "Output: 2\n"
   ]
  },
  {
   "cell_type": "code",
   "execution_count": 9,
   "id": "74439665",
   "metadata": {},
   "outputs": [
    {
     "data": {
      "text/plain": [
       "2"
      ]
     },
     "execution_count": 9,
     "metadata": {},
     "output_type": "execute_result"
    }
   ],
   "source": [
    "def closesum(nums, target):\n",
    "    nums.sort()\n",
    "    n = len(nums)\n",
    "    closest_sum = float('inf')\n",
    "    sum_of_integers = 0\n",
    "    \n",
    "    for i in range (0, n-2):\n",
    "        left = i+1\n",
    "        right = n-1\n",
    "        \n",
    "        while left < right:\n",
    "            sum_of_integers = nums[i] + nums[left] + nums[right]\n",
    "            \n",
    "            if sum_of_integers == target:\n",
    "                return sum_of_integers\n",
    "            elif abs(sum_of_integers - target) < abs(closest_sum - target):\n",
    "                closest_sum = sum_of_integers\n",
    "                \n",
    "            if sum_of_integers < target:\n",
    "                left = left + 1\n",
    "            else:\n",
    "                right = right - 1\n",
    "        \n",
    "        \n",
    "    return closest_sum\n",
    "\n",
    "nums = [-1,2,1,-4]\n",
    "target = 1\n",
    "closesum(nums,target)    \n",
    "    "
   ]
  },
  {
   "cell_type": "markdown",
   "id": "e30c221d",
   "metadata": {},
   "source": [
    "Question 2\n",
    "Given an array nums of n integers, return an array of all the unique quadruplets\n",
    "[nums[a], nums[b], nums[c], nums[d]] such that:\n",
    "           ● 0 <= a, b, c, d < n\n",
    "           ● a, b, c, and d are distinct.\n",
    "           ● nums[a] + nums[b] + nums[c] + nums[d] == target\n",
    "\n",
    "You may return the answer in any order.\n",
    "\n",
    "Example 1:\n",
    "Input: nums = [1,0,-1,0,-2,2], target = 0\n",
    "Output: [[-2,-1,1,2],[-2,0,0,2],[-1,0,0,1]]"
   ]
  },
  {
   "cell_type": "code",
   "execution_count": 13,
   "id": "ea174c91",
   "metadata": {
    "scrolled": true
   },
   "outputs": [
    {
     "name": "stdout",
     "output_type": "stream",
     "text": [
      "[[-2, -1, 1, 2], [-2, 0, 0, 2], [-1, 0, 0, 1]]\n"
     ]
    }
   ],
   "source": [
    "def sum_of_four(nums,target):\n",
    "    nums.sort()\n",
    "    quadruplets=[]\n",
    "    \n",
    "    for i in range (0, len(nums)-3):\n",
    "        if i>0 and nums[i] == nums[i-1]:\n",
    "            continue\n",
    "            \n",
    "        for j in range(i+1, len(nums)-2):\n",
    "            if j > i+1 and nums[j] == nums[j-1]:\n",
    "                continue\n",
    "                \n",
    "            left = j + 1\n",
    "            right = len(nums) - 1\n",
    "            \n",
    "            while left < right:\n",
    "                sum_of_integers = nums[i] + nums[j] + nums[left] + nums[right]\n",
    "                \n",
    "                if sum_of_integers == target:\n",
    "                    quadruplets.append([nums[i], nums[j], nums[left], nums[right]])\n",
    "                    \n",
    "                    while left < right and nums[left] == nums[left + 1]:\n",
    "                        left = left + 1\n",
    "                    while left < right and nums[right] == nums[right - 1]:\n",
    "                        right = right - 1\n",
    "                        \n",
    "                    \n",
    "                    left = left + 1\n",
    "                    right = right - 1\n",
    "                    \n",
    "                elif sum_of_integers < target:\n",
    "                    left = left + 1\n",
    "                else: \n",
    "                    right = right - 1\n",
    "                    \n",
    "    return quadruplets              \n",
    "                    \n",
    "nums = [1,0,-1,0,-2,2]\n",
    "target = 0\n",
    "result=sum_of_four(nums,target)\n",
    "print (result)"
   ]
  },
  {
   "cell_type": "markdown",
   "id": "7641b1cf",
   "metadata": {},
   "source": [
    "<aside>\n",
    "💡 **Question 3**\n",
    "A permutation of an array of integers is an arrangement of its members into a\n",
    "sequence or linear order.\n",
    "\n",
    "For example, for arr = [1,2,3], the following are all the permutations of arr:\n",
    "[1,2,3], [1,3,2], [2, 1, 3], [2, 3, 1], [3,1,2], [3,2,1].\n",
    "\n",
    "The next permutation of an array of integers is the next lexicographically greater\n",
    "permutation of its integer. More formally, if all the permutations of the array are\n",
    "sorted in one container according to their lexicographical order, then the next\n",
    "permutation of that array is the permutation that follows it in the sorted container.\n",
    "\n",
    "If such an arrangement is not possible, the array must be rearranged as the\n",
    "lowest possible order (i.e., sorted in ascending order).\n",
    "\n",
    "● For example, the next permutation of arr = [1,2,3] is [1,3,2].\n",
    "● Similarly, the next permutation of arr = [2,3,1] is [3,1,2].\n",
    "● While the next permutation of arr = [3,2,1] is [1,2,3] because [3,2,1] does not\n",
    "have a lexicographical larger rearrangement.\n",
    "\n",
    "Given an array of integers nums, find the next permutation of nums.\n",
    "The replacement must be in place and use only constant extra memory.\n",
    "\n",
    "**Example 1:**\n",
    "Input: nums = [1,2,3]\n",
    "Output: [1,3,2]\n",
    "\n",
    "</aside>"
   ]
  },
  {
   "cell_type": "code",
   "execution_count": 19,
   "id": "3262362f",
   "metadata": {},
   "outputs": [
    {
     "name": "stdout",
     "output_type": "stream",
     "text": [
      "[3, 1, 2]\n"
     ]
    }
   ],
   "source": [
    "def nextpermutation(nums):\n",
    "    n = len(nums)\n",
    "    \n",
    "    i = n - 2\n",
    "    while i >= 0 and nums[i] >= nums[i + 1]:\n",
    "        i = i - 1\n",
    "\n",
    "    if i >= 0:\n",
    "        j = n - 1\n",
    "        while nums[j] <= nums[i]:\n",
    "            j = j - 1\n",
    "\n",
    "        nums[i], nums[j] = nums[j], nums[i]\n",
    "\n",
    "    left = i + 1\n",
    "    right = n - 1\n",
    "    while left < right:\n",
    "        nums[left], nums[right] = nums[right], nums[left]\n",
    "        left = left + 1\n",
    "        right = right - 1\n",
    "\n",
    "nums = [2, 3, 1].\n",
    "nextpermutation(nums)\n",
    "print(nums)"
   ]
  },
  {
   "cell_type": "markdown",
   "id": "f6a79477",
   "metadata": {},
   "source": [
    "Question 4\n",
    "Given a sorted array of distinct integers and a target value, return the index if the\n",
    "target is found. If not, return the index where it would be if it were inserted in\n",
    "order.\n",
    "\n",
    "You must write an algorithm with O(log n) runtime complexity.\n",
    "\n",
    "Example 1:\n",
    "Input: nums = [1,3,5,6], target = 5\n",
    "Output: 2"
   ]
  },
  {
   "cell_type": "code",
   "execution_count": 22,
   "id": "40e53558",
   "metadata": {},
   "outputs": [
    {
     "data": {
      "text/plain": [
       "2"
      ]
     },
     "execution_count": 22,
     "metadata": {},
     "output_type": "execute_result"
    }
   ],
   "source": [
    "def searchtarget(nums,target):\n",
    "    left=0\n",
    "    right=len(nums)-1\n",
    "    \n",
    "    while left<= right:\n",
    "        mid=(left+right)//2\n",
    "        \n",
    "        if nums[mid]==target:\n",
    "            return mid\n",
    "        elif nums[mid]<target:\n",
    "            left=mid+1\n",
    "        else:\n",
    "            right=mid-1\n",
    "    return left\n",
    "\n",
    "nums=[1,3,5,6]\n",
    "target =5\n",
    "searchtarget(nums,target)"
   ]
  },
  {
   "cell_type": "markdown",
   "id": "07088618",
   "metadata": {},
   "source": [
    "Question 5\n",
    "You are given a large integer represented as an integer array digits, where each\n",
    "digits[i] is the ith digit of the integer. The digits are ordered from most significant\n",
    "to least significant in left-to-right order. The large integer does not contain any\n",
    "leading 0's.\n",
    "\n",
    "Increment the large integer by one and return the resulting array of digits.\n",
    "\n",
    "Example 1:\n",
    "Input: digits = [1,2,3]\n",
    "Output: [1,2,4]"
   ]
  },
  {
   "cell_type": "code",
   "execution_count": 25,
   "id": "d4319f03",
   "metadata": {},
   "outputs": [
    {
     "name": "stdout",
     "output_type": "stream",
     "text": [
      "[1, 2, 4]\n"
     ]
    }
   ],
   "source": [
    "def array_sum(digits):\n",
    "    n=len(digits)\n",
    "    \n",
    "    for i in range(n-1,-1,-1):\n",
    "        if digits[i]<9:\n",
    "            digits[i] =digits[i]+1\n",
    "            return digits\n",
    "        else:\n",
    "            digits[i]=0\n",
    "    digits.insert(0,1)\n",
    "    return digits\n",
    "\n",
    "digits=[1,2,3]\n",
    "new_array=array_sum(digits)\n",
    "print(new_array)"
   ]
  },
  {
   "cell_type": "markdown",
   "id": "ca9c321a",
   "metadata": {},
   "source": [
    "Given a non-empty array of integers nums, every element appears twice except\n",
    "for one. Find that single one.\n",
    "\n",
    "You must implement a solution with a linear runtime complexity and use only\n",
    "constant extra space.\n",
    "\n",
    "Example 1:\n",
    "Input: nums = [2,2,1]\n",
    "Output: 1"
   ]
  },
  {
   "cell_type": "code",
   "execution_count": 28,
   "id": "85722114",
   "metadata": {},
   "outputs": [
    {
     "data": {
      "text/plain": [
       "1"
      ]
     },
     "execution_count": 28,
     "metadata": {},
     "output_type": "execute_result"
    }
   ],
   "source": [
    "def uniqueelement(nums):\n",
    "    result=0\n",
    "    \n",
    "    for i in nums:\n",
    "        result = result ^ i\n",
    "        \n",
    "    return result\n",
    "\n",
    "nums = [2,2,1]\n",
    "uniqueelement(nums)"
   ]
  },
  {
   "cell_type": "markdown",
   "id": "ed900e54",
   "metadata": {},
   "source": [
    "Question 7\n",
    "You are given an inclusive range [lower, upper] and a sorted unique integer array\n",
    "nums, where all elements are within the inclusive range.\n",
    "\n",
    "A number x is considered missing if x is in the range [lower, upper] and x is not in\n",
    "nums.\n",
    "\n",
    "Return the shortest sorted list of ranges that exactly covers all the missing\n",
    "numbers. That is, no element of nums is included in any of the ranges, and each\n",
    "missing number is covered by one of the ranges.\n",
    "\n",
    "Example 1:\n",
    "Input: nums = [0,1,3,50,75], lower = 0, upper = 99\n",
    "Output: [[2,2],[4,49],[51,74],[76,99]]\n"
   ]
  },
  {
   "cell_type": "code",
   "execution_count": 32,
   "id": "d999596b",
   "metadata": {},
   "outputs": [
    {
     "name": "stdout",
     "output_type": "stream",
     "text": [
      "[[2, 2], [4, 49], [51, 74], [76, 99]]\n"
     ]
    }
   ],
   "source": [
    "def missingrange(nums, lower, upper):\n",
    "    result = []\n",
    "    start = lower\n",
    "\n",
    "    for i in nums:\n",
    "        if i > start:\n",
    "            result.append(ranges(start, i - 1))\n",
    "        start = i + 1\n",
    "\n",
    "    if start <= upper:\n",
    "        result.append(ranges(start, upper))\n",
    "\n",
    "    return result\n",
    "\n",
    "def ranges(start, end):\n",
    "    if start == end:\n",
    "        return [start,start]\n",
    "    else:\n",
    "        return [start,end]\n",
    "\n",
    "nums = [0, 1, 3, 50, 75]\n",
    "lower = 0\n",
    "upper = 99\n",
    "ranges = missingrange(nums, lower, upper)\n",
    "print(ranges)"
   ]
  },
  {
   "cell_type": "markdown",
   "id": "db031994",
   "metadata": {},
   "source": [
    "Question 8\n",
    "Given an array of meeting time intervals where intervals[i] = [starti, endi],\n",
    "determine if a person could attend all meetings.\n",
    "\n",
    "Example 1:\n",
    "Input: intervals = [[0,30],[5,10],[15,20]]\n",
    "Output: false"
   ]
  },
  {
   "cell_type": "code",
   "execution_count": 33,
   "id": "04e5694a",
   "metadata": {},
   "outputs": [
    {
     "data": {
      "text/plain": [
       "False"
      ]
     },
     "execution_count": 33,
     "metadata": {},
     "output_type": "execute_result"
    }
   ],
   "source": [
    "def attendmeet(intervals):\n",
    "    intervals.sort(key=lambda x: x[0])\n",
    "\n",
    "    for i in range(1, len(intervals)):\n",
    "        if intervals[i][0] < intervals[i-1][1]:\n",
    "            return False\n",
    "\n",
    "    return True\n",
    "\n",
    "intervals = [[0, 30], [5, 10], [15, 20]]\n",
    "attendmeet(intervals)"
   ]
  },
  {
   "cell_type": "code",
   "execution_count": null,
   "id": "8def6098",
   "metadata": {},
   "outputs": [],
   "source": []
  }
 ],
 "metadata": {
  "kernelspec": {
   "display_name": "Python 3 (ipykernel)",
   "language": "python",
   "name": "python3"
  },
  "language_info": {
   "codemirror_mode": {
    "name": "ipython",
    "version": 3
   },
   "file_extension": ".py",
   "mimetype": "text/x-python",
   "name": "python",
   "nbconvert_exporter": "python",
   "pygments_lexer": "ipython3",
   "version": "3.9.13"
  }
 },
 "nbformat": 4,
 "nbformat_minor": 5
}
